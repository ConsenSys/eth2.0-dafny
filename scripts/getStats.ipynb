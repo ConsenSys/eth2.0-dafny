{
 "nbformat": 4,
 "nbformat_minor": 2,
 "metadata": {
  "language_info": {
   "name": "python",
   "codemirror_mode": {
    "name": "ipython",
    "version": 3
   },
   "version": "3.7.3-final"
  },
  "orig_nbformat": 2,
  "file_extension": ".py",
  "mimetype": "text/x-python",
  "name": "python",
  "npconvert_exporter": "python",
  "pygments_lexer": "ipython3",
  "version": 3,
  "kernelspec": {
   "name": "python37364bit72dfc5626a924633aeb96a8e35da9f04",
   "display_name": "Python 3.7.3 64-bit"
  }
 },
 "cells": [
  {
   "cell_type": "markdown",
   "metadata": {},
   "source": [
    "This notebook contains some basic processing to automate the collection of statistics relating to the Dafny files.\n",
    "By creating functions to perform analysis of dafny files, additional results can be added to the pandas dataframe.\n",
    "The use of a pandas dataframe provides many options for visualisation and the data can easily by stored in a csv.\n",
    "The data can also easily be supplemented with timestamps to faciliate time series analysis.\n",
    "\n",
    "This file is a working file and will be converted to a python script in due course."
   ]
  },
  {
   "cell_type": "code",
   "execution_count": 37,
   "metadata": {},
   "outputs": [],
   "source": [
    "# import libraries\n",
    "import os\n",
    "import subprocess\n",
    "\n",
    "import pandas as pd"
   ]
  },
  {
   "cell_type": "code",
   "execution_count": 24,
   "metadata": {},
   "outputs": [],
   "source": [
    "# find *.dfy files, with a given repo\n",
    "def getListOfDafnyFiles(dirName):\n",
    "    listOfFile = os.listdir(dirName)\n",
    "    allFiles = list()\n",
    "    # Iterate over all the entries\n",
    "    for entry in listOfFile:\n",
    "        # Create full path\n",
    "        fullPath = os.path.join(dirName, entry)\n",
    "        # If entry is a directory then get the list of files in this directory \n",
    "        if os.path.isdir(fullPath):\n",
    "            allFiles = allFiles + getListOfDafnyFiles(fullPath)\n",
    "        else:\n",
    "            if entry.endswith(\".dfy\"):\n",
    "                allFiles.append(fullPath)\n",
    "    return sorted(allFiles)   "
   ]
  },
  {
   "cell_type": "code",
   "execution_count": 25,
   "metadata": {},
   "outputs": [],
   "source": [
    "# find folders within the repo that have *.dfy files\n",
    "def getListOfDafnyFolders(dafnyFiles):\n",
    "    listOfDirectories = list()\n",
    "    for file in dafnyFiles:\n",
    "        listOfDirectories.append(os.path.dirname(file))\n",
    "    return sorted(list(set(listOfDirectories)))"
   ]
  },
  {
   "cell_type": "code",
   "execution_count": 36,
   "metadata": {},
   "outputs": [],
   "source": [
    "# get folder for an inidividual dafny file\n",
    "def getFolder(repo, dafny_file):\n",
    "    repo_path, folder = os.path.dirname(dafny_file).split(repo,1)\n",
    "    return folder"
   ]
  },
  {
   "cell_type": "code",
   "execution_count": 26,
   "metadata": {},
   "outputs": [
    {
     "output_type": "stream",
     "name": "stdout",
     "text": "/Users/joannefuller/Documents/vscode/eth2.0-dafny/src/dafny/merkle/Merkleise.dfy\n/Users/joannefuller/Documents/vscode/eth2.0-dafny/src/dafny/ssz/BitListSeDes.dfy\n/Users/joannefuller/Documents/vscode/eth2.0-dafny/src/dafny/ssz/BoolSeDes.dfy\n/Users/joannefuller/Documents/vscode/eth2.0-dafny/src/dafny/ssz/BytesAndBits.dfy\n/Users/joannefuller/Documents/vscode/eth2.0-dafny/src/dafny/ssz/IntSeDes.dfy\n/Users/joannefuller/Documents/vscode/eth2.0-dafny/src/dafny/ssz/Serialise.dfy\n/Users/joannefuller/Documents/vscode/eth2.0-dafny/src/dafny/utils/DafTests.dfy\n/Users/joannefuller/Documents/vscode/eth2.0-dafny/src/dafny/utils/Eth2Types.dfy\n/Users/joannefuller/Documents/vscode/eth2.0-dafny/src/dafny/utils/Helpers.dfy\n/Users/joannefuller/Documents/vscode/eth2.0-dafny/src/dafny/utils/MathHelpers.dfy\n/Users/joannefuller/Documents/vscode/eth2.0-dafny/src/dafny/utils/NativeTypes.dfy\n/Users/joannefuller/Documents/vscode/eth2.0-dafny/src/dafny/utils/SeqHelpers.dfy\n/Users/joannefuller/Documents/vscode/eth2.0-dafny/test/dafny/merkle/Merkleise.test.dfy\n/Users/joannefuller/Documents/vscode/eth2.0-dafny/test/dafny/ssz/BitListSeDes.tests.dfy\n/Users/joannefuller/Documents/vscode/eth2.0-dafny/test/dafny/utils/MathHelpers.tests.dfy\n15\n/Users/joannefuller/Documents/vscode/eth2.0-dafny/src/dafny/merkle\n/Users/joannefuller/Documents/vscode/eth2.0-dafny/src/dafny/ssz\n/Users/joannefuller/Documents/vscode/eth2.0-dafny/src/dafny/utils\n/Users/joannefuller/Documents/vscode/eth2.0-dafny/test/dafny/merkle\n/Users/joannefuller/Documents/vscode/eth2.0-dafny/test/dafny/ssz\n/Users/joannefuller/Documents/vscode/eth2.0-dafny/test/dafny/utils\n6\n"
    }
   ],
   "source": [
    "# test the getListOfDafnyFiles, getListOfDafnyFolders and getFolder functions\n",
    "repo_directory = \"/Users/joannefuller/Documents/vscode/eth2.0-dafny/\"\n",
    "\n",
    "files = getListOfDafnyFiles(repo_directory)\n",
    "for i in files:\n",
    "    print(i)\n",
    "print(len(files))\n",
    "\n",
    "directories = getListOfDafnyFolders(files)\n",
    "for i in directories:\n",
    "    print(i)\n",
    "print(len(directories))\n",
    "\n",
    "for file in files:\n",
    "    print(getFolder(repo_directory, file))"
   ]
  },
  {
   "cell_type": "code",
   "execution_count": 65,
   "metadata": {},
   "outputs": [],
   "source": [
    "def getLemmas(dafny_file):\n",
    "    cmd = \"cat \" + dafny_file +\"| grep lemma | wc -l\"\n",
    "    result = subprocess.run(['/bin/bash', '-i', '-c', cmd], stdout=subprocess.PIPE)\n",
    "    return result.stdout.strip().decode('ascii')"
   ]
  },
  {
   "cell_type": "code",
   "execution_count": 66,
   "metadata": {},
   "outputs": [],
   "source": [
    "def getFunctions(dafny_file):\n",
    "    cmd = \"cat \" + dafny_file +\"| grep function | grep method | wc -l\"\n",
    "    result = subprocess.run(['/bin/bash', '-i', '-c', cmd], stdout=subprocess.PIPE)\n",
    "    return result.stdout.strip().decode('ascii')\n",
    ""
   ]
  },
  {
   "cell_type": "code",
   "execution_count": 67,
   "metadata": {},
   "outputs": [
    {
     "output_type": "stream",
     "name": "stdout",
     "text": "3\n4\n"
    }
   ],
   "source": [
    "# test the getLemmas and getFunctions functions\n",
    "test_file = \"/Users/joannefuller/Documents/vscode/eth2.0-dafny/src/dafny/ssz/BytesAndBits.dfy\"\n",
    "\n",
    "print(getLemmas(test_file))\n",
    "print(getFunctions(test_file))"
   ]
  },
  {
   "cell_type": "code",
   "execution_count": 83,
   "metadata": {},
   "outputs": [
    {
     "output_type": "execute_result",
     "data": {
      "text/plain": "                     Files             Folder Lemmas Functions\n0            Merkleise.dfy   src/dafny/merkle      5         3\n1         BitListSeDes.dfy      src/dafny/ssz      8         4\n2            BoolSeDes.dfy      src/dafny/ssz      0         2\n3         BytesAndBits.dfy      src/dafny/ssz      3         4\n4             IntSeDes.dfy      src/dafny/ssz      1         2\n5            Serialise.dfy      src/dafny/ssz      3         3\n6             DafTests.dfy    src/dafny/utils      0         1\n7            Eth2Types.dfy    src/dafny/utils      1         0\n8              Helpers.dfy    src/dafny/utils     11         2\n9          MathHelpers.dfy    src/dafny/utils      5         2\n10         NativeTypes.dfy    src/dafny/utils      0         0\n11          SeqHelpers.dfy    src/dafny/utils      7         0\n12      Merkleise.test.dfy  test/dafny/merkle      0         0\n13  BitListSeDes.tests.dfy     test/dafny/ssz      0         0\n14   MathHelpers.tests.dfy   test/dafny/utils      1         0",
      "text/html": "<div>\n<style scoped>\n    .dataframe tbody tr th:only-of-type {\n        vertical-align: middle;\n    }\n\n    .dataframe tbody tr th {\n        vertical-align: top;\n    }\n\n    .dataframe thead th {\n        text-align: right;\n    }\n</style>\n<table border=\"1\" class=\"dataframe\">\n  <thead>\n    <tr style=\"text-align: right;\">\n      <th></th>\n      <th>Files</th>\n      <th>Folder</th>\n      <th>Lemmas</th>\n      <th>Functions</th>\n    </tr>\n  </thead>\n  <tbody>\n    <tr>\n      <th>0</th>\n      <td>Merkleise.dfy</td>\n      <td>src/dafny/merkle</td>\n      <td>5</td>\n      <td>3</td>\n    </tr>\n    <tr>\n      <th>1</th>\n      <td>BitListSeDes.dfy</td>\n      <td>src/dafny/ssz</td>\n      <td>8</td>\n      <td>4</td>\n    </tr>\n    <tr>\n      <th>2</th>\n      <td>BoolSeDes.dfy</td>\n      <td>src/dafny/ssz</td>\n      <td>0</td>\n      <td>2</td>\n    </tr>\n    <tr>\n      <th>3</th>\n      <td>BytesAndBits.dfy</td>\n      <td>src/dafny/ssz</td>\n      <td>3</td>\n      <td>4</td>\n    </tr>\n    <tr>\n      <th>4</th>\n      <td>IntSeDes.dfy</td>\n      <td>src/dafny/ssz</td>\n      <td>1</td>\n      <td>2</td>\n    </tr>\n    <tr>\n      <th>5</th>\n      <td>Serialise.dfy</td>\n      <td>src/dafny/ssz</td>\n      <td>3</td>\n      <td>3</td>\n    </tr>\n    <tr>\n      <th>6</th>\n      <td>DafTests.dfy</td>\n      <td>src/dafny/utils</td>\n      <td>0</td>\n      <td>1</td>\n    </tr>\n    <tr>\n      <th>7</th>\n      <td>Eth2Types.dfy</td>\n      <td>src/dafny/utils</td>\n      <td>1</td>\n      <td>0</td>\n    </tr>\n    <tr>\n      <th>8</th>\n      <td>Helpers.dfy</td>\n      <td>src/dafny/utils</td>\n      <td>11</td>\n      <td>2</td>\n    </tr>\n    <tr>\n      <th>9</th>\n      <td>MathHelpers.dfy</td>\n      <td>src/dafny/utils</td>\n      <td>5</td>\n      <td>2</td>\n    </tr>\n    <tr>\n      <th>10</th>\n      <td>NativeTypes.dfy</td>\n      <td>src/dafny/utils</td>\n      <td>0</td>\n      <td>0</td>\n    </tr>\n    <tr>\n      <th>11</th>\n      <td>SeqHelpers.dfy</td>\n      <td>src/dafny/utils</td>\n      <td>7</td>\n      <td>0</td>\n    </tr>\n    <tr>\n      <th>12</th>\n      <td>Merkleise.test.dfy</td>\n      <td>test/dafny/merkle</td>\n      <td>0</td>\n      <td>0</td>\n    </tr>\n    <tr>\n      <th>13</th>\n      <td>BitListSeDes.tests.dfy</td>\n      <td>test/dafny/ssz</td>\n      <td>0</td>\n      <td>0</td>\n    </tr>\n    <tr>\n      <th>14</th>\n      <td>MathHelpers.tests.dfy</td>\n      <td>test/dafny/utils</td>\n      <td>1</td>\n      <td>0</td>\n    </tr>\n  </tbody>\n</table>\n</div>"
     },
     "metadata": {},
     "execution_count": 83
    }
   ],
   "source": [
    "# create a pandas dataframe to store stats relating to the dafny files\n",
    "# initially this table will just contain 4 columns\n",
    "column_list = ['Files', 'Folder', 'Lemmas', 'Functions']\n",
    "repo_directory = \"/Users/joannefuller/Documents/vscode/eth2.0-dafny/\"\n",
    "\n",
    "df = pd.DataFrame(columns=column_list)\n",
    "\n",
    "for file in files:\n",
    "    df2 = pd.DataFrame([[os.path.basename(file), \n",
    "                        getFolder(repo_directory, file), \n",
    "                        getLemmas(file), \n",
    "                        getFunctions(file)]], \n",
    "                        columns=column_list)\n",
    "    df = df.append(df2, ignore_index=True)\n",
    "\n",
    "#display a sample of rows\n",
    "df.head(len(df))\n"
   ]
  },
  {
   "cell_type": "code",
   "execution_count": null,
   "metadata": {},
   "outputs": [],
   "source": []
  }
 ]
}